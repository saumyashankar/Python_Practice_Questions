{
 "cells": [
  {
   "cell_type": "code",
   "execution_count": 2,
   "id": "493e2823",
   "metadata": {},
   "outputs": [],
   "source": [
    "#Create a list of even numbers from a given list of integers.\n",
    "\n",
    "## Here we define a function\n",
    "def get_even_numbers(numbers):\n",
    "    return [num for num in numbers if num % 2 == 0] #Using return and for loop we are finding the even number from the list of integer."
   ]
  },
  {
   "cell_type": "code",
   "execution_count": 3,
   "id": "b207e420",
   "metadata": {},
   "outputs": [
    {
     "data": {
      "text/plain": [
       "[2, 4]"
      ]
     },
     "execution_count": 3,
     "metadata": {},
     "output_type": "execute_result"
    }
   ],
   "source": [
    "#We are calling function define above and Pass a list of Integer through it.\n",
    "get_even_numbers([1, 2, 3, 4])"
   ]
  }
 ],
 "metadata": {
  "kernelspec": {
   "display_name": "Python 3 (ipykernel)",
   "language": "python",
   "name": "python3"
  },
  "language_info": {
   "codemirror_mode": {
    "name": "ipython",
    "version": 3
   },
   "file_extension": ".py",
   "mimetype": "text/x-python",
   "name": "python",
   "nbconvert_exporter": "python",
   "pygments_lexer": "ipython3",
   "version": "3.9.7"
  }
 },
 "nbformat": 4,
 "nbformat_minor": 5
}
