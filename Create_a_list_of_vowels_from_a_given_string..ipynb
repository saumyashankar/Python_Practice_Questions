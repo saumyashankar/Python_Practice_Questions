{
 "cells": [
  {
   "cell_type": "code",
   "execution_count": 2,
   "id": "ac2367f4",
   "metadata": {},
   "outputs": [],
   "source": [
    "def find_vowels_from_string(string):\n",
    "    vowels = []\n",
    "    for char in string:\n",
    "        if char.lower() in ['a', 'e', 'i', 'o', 'u']:\n",
    "            vowels.append(char)\n",
    "    return vowels"
   ]
  },
  {
   "cell_type": "code",
   "execution_count": 3,
   "id": "6a5ecbf7",
   "metadata": {},
   "outputs": [
    {
     "data": {
      "text/plain": [
       "['E', 'O']"
      ]
     },
     "execution_count": 3,
     "metadata": {},
     "output_type": "execute_result"
    }
   ],
   "source": [
    "find_vowels_from_string(\"HELLO\")"
   ]
  },
  {
   "cell_type": "code",
   "execution_count": 4,
   "id": "a404c372",
   "metadata": {},
   "outputs": [
    {
     "data": {
      "text/plain": [
       "['a', 'u', 'a']"
      ]
     },
     "execution_count": 4,
     "metadata": {},
     "output_type": "execute_result"
    }
   ],
   "source": [
    "find_vowels_from_string(\"saumya\")"
   ]
  }
 ],
 "metadata": {
  "kernelspec": {
   "display_name": "Python 3 (ipykernel)",
   "language": "python",
   "name": "python3"
  },
  "language_info": {
   "codemirror_mode": {
    "name": "ipython",
    "version": 3
   },
   "file_extension": ".py",
   "mimetype": "text/x-python",
   "name": "python",
   "nbconvert_exporter": "python",
   "pygments_lexer": "ipython3",
   "version": "3.9.7"
  }
 },
 "nbformat": 4,
 "nbformat_minor": 5
}
