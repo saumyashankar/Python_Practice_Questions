{
 "cells": [
  {
   "cell_type": "code",
   "execution_count": 1,
   "id": "dcef7b3e",
   "metadata": {},
   "outputs": [],
   "source": [
    "#Create a list of squared integers from a given list of integers."
   ]
  },
  {
   "cell_type": "code",
   "execution_count": 4,
   "id": "4ba8329f",
   "metadata": {},
   "outputs": [
    {
     "name": "stdout",
     "output_type": "stream",
     "text": [
      "List with squared integers from 1 to 10:\n",
      "[1, 4, 9, 16, 25, 36, 49, 64, 81, 100]\n"
     ]
    }
   ],
   "source": [
    "#Method1\n",
    "\n",
    "list = []\n",
    "\n",
    "#loop through the range of values from 1 to 10 and square each value and append it to the new list.\n",
    "for i in range(1, 11):\n",
    "    list.append(i * i)\n",
    "\n",
    "#Print the squares from 1 to 10\n",
    "print(\"List with squared integers from 1 to 10:\")\n",
    "print(list)"
   ]
  },
  {
   "cell_type": "code",
   "execution_count": null,
   "id": "6293d05c",
   "metadata": {},
   "outputs": [],
   "source": [
    "#method 2\n",
    "\n",
    "int_list = input(\"Enter a list of integers separated by spaces: \")\n",
    "\n",
    "#split the input with \" \"(space)\n",
    "int_list1=list(int_list.split(\" \"))\n",
    "\n",
    "\n",
    "l2 = []\n",
    "\n",
    "#loop through the splitted list and square ecah numbers and appending to the new list\n",
    "for i in int_list1:\n",
    "    i1 = int(i)\n",
    "    s = i1*i1\n",
    "    l2.append(s)\n",
    "\n",
    "#print the funal output\n",
    "print(l2)"
   ]
  },
  {
   "cell_type": "code",
   "execution_count": 2,
   "id": "fdc92b26",
   "metadata": {},
   "outputs": [
    {
     "name": "stdout",
     "output_type": "stream",
     "text": [
      "Enter a list of integers separated by spaces: 1 2\n",
      "[1, 4]\n"
     ]
    }
   ],
   "source": [
    "#Method 3\n",
    "\n",
    "#Take the input from the user and Create a list of squared integers from a given integer.\n",
    "\n",
    "input_str = input(\"Enter a list of integers separated by spaces: \")\n",
    "\n",
    "#Split the input from input_str with space and map each value to integer and converting the numbers into integers\n",
    "int_list = list(map(int, input_str.split( )))\n",
    "\n",
    "#Square each number\n",
    "squared_int_list = [num ** 2 for num in int_list]\n",
    "\n",
    "#Print the list of squares\n",
    "print(squared_int_list)"
   ]
  },
  {
   "cell_type": "code",
   "execution_count": null,
   "id": "dcba1738",
   "metadata": {},
   "outputs": [],
   "source": [
    "#Get the a number from user\n",
    "n = int(input(\"Enter a number\"))\n",
    "\n",
    "l2 =[]\n",
    "\n",
    "#Loop through the range of numbers as per the input by the user and square the numbers and append it in new list\n",
    "for i in range(1, n+1):\n",
    "    s = i*i\n",
    "    l2.append(s)\n",
    "\n",
    "#Print the squares\n",
    "print(l2)"
   ]
  }
 ],
 "metadata": {
  "kernelspec": {
   "display_name": "Python 3 (ipykernel)",
   "language": "python",
   "name": "python3"
  },
  "language_info": {
   "codemirror_mode": {
    "name": "ipython",
    "version": 3
   },
   "file_extension": ".py",
   "mimetype": "text/x-python",
   "name": "python",
   "nbconvert_exporter": "python",
   "pygments_lexer": "ipython3",
   "version": "3.9.7"
  }
 },
 "nbformat": 4,
 "nbformat_minor": 5
}
